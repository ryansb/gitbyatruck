{
 "metadata": {
  "name": "",
  "signature": "sha256:b757d9281cc1ca64a6750ac76cb96eab20702ed7549229d96f0375a3fb53784c"
 },
 "nbformat": 3,
 "nbformat_minor": 0,
 "worksheets": [
  {
   "cells": [
    {
     "cell_type": "code",
     "collapsed": false,
     "input": [
      "import redis\n",
      "rds = redis.StrictRedis(host='localhost', port=6379, db=0)"
     ],
     "language": "python",
     "metadata": {},
     "outputs": [],
     "prompt_number": 2
    },
    {
     "cell_type": "code",
     "collapsed": false,
     "input": [
      "rds.set(\"foo\", 10)"
     ],
     "language": "python",
     "metadata": {},
     "outputs": [
      {
       "metadata": {},
       "output_type": "pyout",
       "prompt_number": 3,
       "text": [
        "True"
       ]
      }
     ],
     "prompt_number": 3
    },
    {
     "cell_type": "code",
     "collapsed": false,
     "input": [
      "rds.get(\"foo\")\n",
      "rds.incr(\"fizz\", 5)"
     ],
     "language": "python",
     "metadata": {},
     "outputs": [
      {
       "metadata": {},
       "output_type": "pyout",
       "prompt_number": 4,
       "text": [
        "5"
       ]
      }
     ],
     "prompt_number": 4
    },
    {
     "cell_type": "code",
     "collapsed": false,
     "input": [
      "def author_stat(db, repo, fname, uname, dels, adds):\n",
      "    key = \"{repo}|{fname}|{uname}|\".format(repo=repo, fname=fname, uname=uname)\n",
      "    db.incr(key+'d', dels)\n",
      "    db.incr(key+'a', adds)\n",
      "    \n",
      "author_stat(rds, \"hflossk\", \"site.py\", \"ryansb\", 10, 5)\n",
      "\n",
      "author_stat(rds, \"hflossk\", \"site.py\", \"decause\", 0, 5)"
     ],
     "language": "python",
     "metadata": {},
     "outputs": [],
     "prompt_number": 5
    },
    {
     "cell_type": "code",
     "collapsed": false,
     "input": [
      "rds.keys(\"hflossk|site.py|*\")"
     ],
     "language": "python",
     "metadata": {},
     "outputs": [
      {
       "metadata": {},
       "output_type": "pyout",
       "prompt_number": 7,
       "text": [
        "['hflossk|site.py|ryansb|d',\n",
        " 'hflossk|site.py|decause|a',\n",
        " 'hflossk|site.py|ryansb|a',\n",
        " 'hflossk|site.py|decause|d']"
       ]
      }
     ],
     "prompt_number": 7
    },
    {
     "cell_type": "code",
     "collapsed": false,
     "input": [
      "rds.rpush(\"some\", \"thing\")\n",
      "rds.rpush(\"some\", \"thing2\")\n",
      "rds.rpush(\"some\", \"thing3\")\n"
     ],
     "language": "python",
     "metadata": {},
     "outputs": []
    },
    {
     "cell_type": "code",
     "collapsed": false,
     "input": [
      "rds.blpop(\"some\")"
     ],
     "language": "python",
     "metadata": {},
     "outputs": []
    }
   ],
   "metadata": {}
  }
 ]
}