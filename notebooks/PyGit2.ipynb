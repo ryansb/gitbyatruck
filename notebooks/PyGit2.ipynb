{
 "metadata": {
  "name": "",
  "signature": "sha256:a42b7aa9b456171f3662d33d59ad742c7ac94f04670827aab77622ec28e0f58a"
 },
 "nbformat": 3,
 "nbformat_minor": 0,
 "worksheets": [
  {
   "cells": [
    {
     "cell_type": "code",
     "collapsed": false,
     "input": [
      "import pygit2\n",
      "\n",
      "repo = pygit2.init_repository('/home/ryansb/code/hflossk/')"
     ],
     "language": "python",
     "metadata": {},
     "outputs": [],
     "prompt_number": 2
    },
    {
     "cell_type": "code",
     "collapsed": false,
     "input": [
      "head = repo.revparse_single(\"HEAD\")\n",
      "# equivalent head = repo.head.get_object()\n",
      "head1 = repo.revparse_single(\"HEAD^\")\n",
      "d = repo.diff(head, head1, context_lines=0) # get a diff object\n",
      "# equivalent: d = repo.diff(\"HEAD\", \"HEAD^\")"
     ],
     "language": "python",
     "metadata": {},
     "outputs": [],
     "prompt_number": 3
    },
    {
     "cell_type": "code",
     "collapsed": false,
     "input": [
      "p1 = [p for p in d][0] # a diff can be iterated over to get patches\n",
      "\n",
      "head.parent_ids"
     ],
     "language": "python",
     "metadata": {},
     "outputs": [
      {
       "metadata": {},
       "output_type": "pyout",
       "prompt_number": 4,
       "text": [
        "[c88539ef74e7dfa743f0e7f99211dc7f0693091a]"
       ]
      }
     ],
     "prompt_number": 4
    },
    {
     "cell_type": "code",
     "collapsed": false,
     "input": [
      "hunk = p1.hunks[0] # http://www.pygit2.org/diff.html#the-patch-type\n",
      "# hunk.lines is a list of tuples (\"[+-]\", \"contents\")"
     ],
     "language": "python",
     "metadata": {},
     "outputs": [],
     "prompt_number": 5
    },
    {
     "cell_type": "code",
     "collapsed": false,
     "input": [
      "hunk.lines"
     ],
     "language": "python",
     "metadata": {},
     "outputs": [
      {
       "metadata": {},
       "output_type": "pyout",
       "prompt_number": 6,
       "text": [
        "[('-', 'HEYHEYHEY\\n')]"
       ]
      }
     ],
     "prompt_number": 6
    },
    {
     "cell_type": "code",
     "collapsed": false,
     "input": [
      "files = [f for f in head.tree] #get all files in a tree\n",
      "\n",
      "hflossk = files[7]"
     ],
     "language": "python",
     "metadata": {},
     "outputs": [],
     "prompt_number": 7
    },
    {
     "cell_type": "code",
     "collapsed": false,
     "input": [
      "walker = repo.walk(repo.head.get_object().hex, pygit2.GIT_SORT_TIME)bv\n",
      "hexen = []\n",
      "for c in walker:\n",
      "    hexen.append(c.hex)\n",
      "print hexen[0]\n",
      "print hexen[10]"
     ],
     "language": "python",
     "metadata": {},
     "outputs": [
      {
       "ename": "SyntaxError",
       "evalue": "invalid syntax (<ipython-input-8-0dde93dbfed3>, line 1)",
       "output_type": "pyerr",
       "traceback": [
        "\u001b[1;36m  File \u001b[1;32m\"<ipython-input-8-0dde93dbfed3>\"\u001b[1;36m, line \u001b[1;32m1\u001b[0m\n\u001b[1;33m    walker = repo.walk(repo.head.get_object().hex, pygit2.GIT_SORT_TIME)bv\u001b[0m\n\u001b[1;37m                                                                         ^\u001b[0m\n\u001b[1;31mSyntaxError\u001b[0m\u001b[1;31m:\u001b[0m invalid syntax\n"
       ]
      }
     ],
     "prompt_number": 8
    },
    {
     "cell_type": "code",
     "collapsed": false,
     "input": [
      "def refs_from(newest, oldest):\n",
      "    refs = []\n",
      "    for c in repo.walk(newest, pygit2.GIT_SORT_TIME):\n",
      "        refs.append(c.hex)\n",
      "        if c.hex == oldest: return refs\n",
      "#refs_from(\"4278938c13cfeaf168e3a6e2b8673d84adf1e42c\", \"85699d6dc518670064b517a2087093d9348e9375\")\n",
      "\n",
      "\n",
      "def partitioned_refs(r=None, chunksize=10):\n",
      "    walker = r.walk(r.revparse_single(\"HEAD\").hex)\n",
      "    done = False\n",
      "    while not done:\n",
      "        hexen = \"\"\n",
      "        for i in range(chunksize):\n",
      "            # Use short ref to save space\n",
      "            try: hexen += walker.__next__().hex[:6] + ','\n",
      "            except StopIteration:\n",
      "                done = True\n",
      "                break\n",
      "        yield hexen.rstrip(',')\n",
      "\n",
      "        \n",
      "# make a generator to create partitioned comma-separated lists of short refs (6 char hexes)\n",
      "g = partitioned_refs(repo, 10)\n",
      "g.__next__()"
     ],
     "language": "python",
     "metadata": {},
     "outputs": []
    },
    {
     "cell_type": "code",
     "collapsed": false,
     "input": [
      "g = partitioned_refs(repo, 100)\n",
      "# for i in g: print i\n",
      "\n",
      "\n",
      "# idiom to get a commit & its parent\n",
      "c = repo.revparse_single(\"427893\")\n",
      "c2 = repo.revparse_single(\"427893^\")"
     ],
     "language": "python",
     "metadata": {},
     "outputs": []
    },
    {
     "cell_type": "code",
     "collapsed": false,
     "input": [
      "walker = repo.walk(repo.revparse_single(\"HEAD\").hex)\n",
      "\n",
      "type(walker)\n",
      "\n",
      "help(walker)"
     ],
     "language": "python",
     "metadata": {},
     "outputs": [
      {
       "output_type": "stream",
       "stream": "stdout",
       "text": [
        "Help on Walker object:\n",
        "\n",
        "class Walker(builtins.object)\n",
        " |  Revision walker.\n",
        " |  \n",
        " |  Methods defined here:\n",
        " |  \n",
        " |  __iter__(...)\n",
        " |      x.__iter__() <==> iter(x)\n",
        " |  \n",
        " |  __next__(...)\n",
        " |      x.__next__() <==> next(x)\n",
        " |  \n",
        " |  hide(...)\n",
        " |      hide(oid)\n",
        " |      \n",
        " |      Mark a commit (and its ancestors) uninteresting for the output.\n",
        " |  \n",
        " |  push(...)\n",
        " |      push(oid)\n",
        " |      \n",
        " |      Mark a commit to start traversal from.\n",
        " |  \n",
        " |  reset(...)\n",
        " |      reset()\n",
        " |      \n",
        " |      Reset the walking machinery for reuse.\n",
        " |  \n",
        " |  simplify_first_parent(...)\n",
        " |      simplify_first_parent()\n",
        " |      \n",
        " |      Simplify the history by first-parent.\n",
        " |  \n",
        " |  sort(...)\n",
        " |      sort(mode)\n",
        " |      \n",
        " |      Change the sorting mode (this resets the walker).\n",
        "\n"
       ]
      }
     ],
     "prompt_number": 12
    }
   ],
   "metadata": {}
  }
 ]
}